{
 "cells": [
  {
   "cell_type": "markdown",
   "metadata": {},
   "source": [
    "# Pandas字符串操作"
   ]
  },
  {
   "cell_type": "markdown",
   "metadata": {},
   "source": [
    "前面我们已经使用了字符串的处理函数：<br>\n",
    "df[\"气温(度)\"].str.replace(\"℃\",\"\").astype(\"float\")\n",
    "\n",
    "***Pandas的字符串处理:***\n",
    "1. 使用方法: 先获取Series的str属性，然后再属性上调用函数;\n",
    "2. 只能再字符串列上使用，不能再数字列上使用;\n",
    "3. DataFrame上没有str属性和处理方法;\n",
    "4. Series.str并不是Python原生字符串，而是自己的一套方法，不过大部分和原生str很相似;\n",
    "\n",
    "***Series.str字符串方法列表参考文档:***<br>\n",
    "https://pandas.pydata.org/docs/reference/series.html\n",
    "\n",
    "***本节演示内容:***\n",
    "1. 获取Series的str属性，然后使用各种字符串处理函数\n",
    "2. 使用str的startswith、contains等boolean类Series可以做条件查询\n",
    "3. 需要多次str处理的链式操作\n",
    "4. 使用正则表达式处理"
   ]
  },
  {
   "cell_type": "code",
   "execution_count": null,
   "metadata": {},
   "outputs": [],
   "source": []
  }
 ],
 "metadata": {
  "kernelspec": {
   "display_name": "Python 3",
   "language": "python",
   "name": "python3"
  },
  "language_info": {
   "codemirror_mode": {
    "name": "ipython",
    "version": 3
   },
   "file_extension": ".py",
   "mimetype": "text/x-python",
   "name": "python",
   "nbconvert_exporter": "python",
   "pygments_lexer": "ipython3",
   "version": "3.6.5"
  }
 },
 "nbformat": 4,
 "nbformat_minor": 2
}
