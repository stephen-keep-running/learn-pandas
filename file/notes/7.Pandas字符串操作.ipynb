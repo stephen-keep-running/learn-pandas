{
 "cells": [
  {
   "cell_type": "markdown",
   "metadata": {},
   "source": [
    "# Pandas字符串操作"
   ]
  },
  {
   "cell_type": "markdown",
   "metadata": {},
   "source": [
    "前面我们已经使用了字符串的处理函数：<br>\n",
    "df[\"气温(度)\"].str.replace(\"℃\", \"\").astype(\"float\")\n",
    "\n",
    "***Pandas的字符串处理:***\n",
    "1. 使用方法: 先获取Series的str属性，然后再属性上调用函数;\n",
    "2. **只能在字符串列上使用**，不能再数字列上使用;\n",
    "3. DataFrame上没有str属性和处理方法;\n",
    "4. Series.str并不是Python原生字符串，而是自己的一套方法，不过大部分和原生str很相似;\n",
    "\n",
    "***Series.str字符串方法列表参考文档:***<br>\n",
    "https://pandas.pydata.org/docs/reference/series.html\n",
    "\n",
    "***本节演示内容:***\n",
    "1. 获取Series的str属性，然后使用各种字符串处理函数\n",
    "2. 使用str的startswith、contains等boolean类Series可以做条件查询\n",
    "3. 需要多次str处理的链式操作\n",
    "4. 使用正则表达式处理"
   ]
  },
  {
   "cell_type": "markdown",
   "metadata": {},
   "source": [
    "## 0. 读取天气数据"
   ]
  },
  {
   "cell_type": "code",
   "execution_count": 1,
   "metadata": {
    "ExecuteTime": {
     "end_time": "2024-04-09T10:37:28.399672300Z",
     "start_time": "2024-04-09T10:37:27.556093500Z"
    }
   },
   "outputs": [],
   "source": [
    "import pandas as pd"
   ]
  },
  {
   "cell_type": "code",
   "execution_count": 2,
   "metadata": {
    "ExecuteTime": {
     "end_time": "2024-04-09T10:37:31.214932900Z",
     "start_time": "2024-04-09T10:37:31.186729200Z"
    }
   },
   "outputs": [],
   "source": [
    "## 0. 读取数据\n",
    "fpath = \"../datas/weather_20230115134249.csv\"\n",
    "df = pd.read_csv(fpath)"
   ]
  },
  {
   "cell_type": "code",
   "execution_count": 3,
   "metadata": {
    "ExecuteTime": {
     "end_time": "2024-04-09T10:37:32.440844100Z",
     "start_time": "2024-04-09T10:37:32.401619100Z"
    }
   },
   "outputs": [
    {
     "data": {
      "text/plain": "           日期   城市  行政区  观测站  气温(度)  相对湿度(%)  累积雨量(mm)\n0  2015-01-01  新北市  烏來區   福山  13.7℃       92       0.0\n1  2015-01-02  臺南市  安平區   安平  23.5℃       70       0.0\n2  2015-01-03  臺東縣  東河鄉  七塊厝  19.6℃       86       0.0\n3  2015-01-04  新北市  貢寮區   福隆  14.2℃       96     -99.0\n4  2015-01-05  南投縣  仁愛鄉  小奇萊   8.3℃       57       0.0",
      "text/html": "<div>\n<style scoped>\n    .dataframe tbody tr th:only-of-type {\n        vertical-align: middle;\n    }\n\n    .dataframe tbody tr th {\n        vertical-align: top;\n    }\n\n    .dataframe thead th {\n        text-align: right;\n    }\n</style>\n<table border=\"1\" class=\"dataframe\">\n  <thead>\n    <tr style=\"text-align: right;\">\n      <th></th>\n      <th>日期</th>\n      <th>城市</th>\n      <th>行政区</th>\n      <th>观测站</th>\n      <th>气温(度)</th>\n      <th>相对湿度(%)</th>\n      <th>累积雨量(mm)</th>\n    </tr>\n  </thead>\n  <tbody>\n    <tr>\n      <th>0</th>\n      <td>2015-01-01</td>\n      <td>新北市</td>\n      <td>烏來區</td>\n      <td>福山</td>\n      <td>13.7℃</td>\n      <td>92</td>\n      <td>0.0</td>\n    </tr>\n    <tr>\n      <th>1</th>\n      <td>2015-01-02</td>\n      <td>臺南市</td>\n      <td>安平區</td>\n      <td>安平</td>\n      <td>23.5℃</td>\n      <td>70</td>\n      <td>0.0</td>\n    </tr>\n    <tr>\n      <th>2</th>\n      <td>2015-01-03</td>\n      <td>臺東縣</td>\n      <td>東河鄉</td>\n      <td>七塊厝</td>\n      <td>19.6℃</td>\n      <td>86</td>\n      <td>0.0</td>\n    </tr>\n    <tr>\n      <th>3</th>\n      <td>2015-01-04</td>\n      <td>新北市</td>\n      <td>貢寮區</td>\n      <td>福隆</td>\n      <td>14.2℃</td>\n      <td>96</td>\n      <td>-99.0</td>\n    </tr>\n    <tr>\n      <th>4</th>\n      <td>2015-01-05</td>\n      <td>南投縣</td>\n      <td>仁愛鄉</td>\n      <td>小奇萊</td>\n      <td>8.3℃</td>\n      <td>57</td>\n      <td>0.0</td>\n    </tr>\n  </tbody>\n</table>\n</div>"
     },
     "execution_count": 3,
     "metadata": {},
     "output_type": "execute_result"
    }
   ],
   "source": [
    "df.head()"
   ]
  },
  {
   "cell_type": "code",
   "execution_count": 4,
   "metadata": {
    "ExecuteTime": {
     "end_time": "2024-04-09T10:37:38.751757Z",
     "start_time": "2024-04-09T10:37:38.731777300Z"
    }
   },
   "outputs": [
    {
     "data": {
      "text/plain": "日期           object\n城市           object\n行政区          object\n观测站          object\n气温(度)        object\n相对湿度(%)       int64\n累积雨量(mm)    float64\ndtype: object"
     },
     "execution_count": 4,
     "metadata": {},
     "output_type": "execute_result"
    }
   ],
   "source": [
    "df.dtypes"
   ]
  },
  {
   "cell_type": "markdown",
   "metadata": {},
   "source": [
    "## 1. 获取Series的str属性，使用各种字符串处理函数"
   ]
  },
  {
   "cell_type": "code",
   "execution_count": 12,
   "metadata": {
    "ExecuteTime": {
     "end_time": "2024-04-09T10:43:17.885584600Z",
     "start_time": "2024-04-09T10:43:17.872486Z"
    }
   },
   "outputs": [
    {
     "data": {
      "text/plain": "<pandas.core.strings.accessor.StringMethods at 0x1ff0b35ff50>"
     },
     "execution_count": 12,
     "metadata": {},
     "output_type": "execute_result"
    }
   ],
   "source": [
    "df[\"气温(度)\"].str"
   ]
  },
  {
   "cell_type": "code",
   "execution_count": 13,
   "metadata": {
    "ExecuteTime": {
     "end_time": "2024-04-09T10:43:28.460155500Z",
     "start_time": "2024-04-09T10:43:28.443791800Z"
    }
   },
   "outputs": [
    {
     "data": {
      "text/plain": "0    13.7\n1    23.5\n2    19.6\n3    14.2\n4     8.3\nName: 气温(度), dtype: object"
     },
     "execution_count": 13,
     "metadata": {},
     "output_type": "execute_result"
    }
   ],
   "source": [
    "df[\"气温(度)\"].str.replace(\"℃\", \"\").head()"
   ]
  },
  {
   "cell_type": "code",
   "execution_count": 14,
   "metadata": {
    "ExecuteTime": {
     "end_time": "2024-04-09T10:43:35.929627600Z",
     "start_time": "2024-04-09T10:43:35.913920900Z"
    }
   },
   "outputs": [
    {
     "data": {
      "text/plain": "0    False\n1    False\n2    False\n3    False\n4    False\nName: 气温(度), dtype: bool"
     },
     "execution_count": 14,
     "metadata": {},
     "output_type": "execute_result"
    }
   ],
   "source": [
    "# 判断是不是数字\n",
    "df[\"气温(度)\"].str.isnumeric().head()"
   ]
  },
  {
   "cell_type": "code",
   "execution_count": 15,
   "metadata": {
    "ExecuteTime": {
     "end_time": "2024-04-09T10:43:48.263671700Z",
     "start_time": "2024-04-09T10:43:48.229905100Z"
    }
   },
   "outputs": [
    {
     "ename": "AttributeError",
     "evalue": "Can only use .str accessor with string values!",
     "output_type": "error",
     "traceback": [
      "\u001B[1;31m---------------------------------------------------------------------------\u001B[0m",
      "\u001B[1;31mAttributeError\u001B[0m                            Traceback (most recent call last)",
      "Cell \u001B[1;32mIn[15], line 1\u001B[0m\n\u001B[1;32m----> 1\u001B[0m \u001B[43mdf\u001B[49m\u001B[43m[\u001B[49m\u001B[38;5;124;43m\"\u001B[39;49m\u001B[38;5;124;43m相对湿度(\u001B[39;49m\u001B[38;5;124;43m%\u001B[39;49m\u001B[38;5;124;43m)\u001B[39;49m\u001B[38;5;124;43m\"\u001B[39;49m\u001B[43m]\u001B[49m\u001B[38;5;241;43m.\u001B[39;49m\u001B[43mstr\u001B[49m\u001B[38;5;241m.\u001B[39mlen()\n",
      "File \u001B[1;32m~\\AppData\\Roaming\\Python\\Python311\\site-packages\\pandas\\core\\generic.py:6296\u001B[0m, in \u001B[0;36mNDFrame.__getattr__\u001B[1;34m(self, name)\u001B[0m\n\u001B[0;32m   6289\u001B[0m \u001B[38;5;28;01mif\u001B[39;00m (\n\u001B[0;32m   6290\u001B[0m     name \u001B[38;5;129;01mnot\u001B[39;00m \u001B[38;5;129;01min\u001B[39;00m \u001B[38;5;28mself\u001B[39m\u001B[38;5;241m.\u001B[39m_internal_names_set\n\u001B[0;32m   6291\u001B[0m     \u001B[38;5;129;01mand\u001B[39;00m name \u001B[38;5;129;01mnot\u001B[39;00m \u001B[38;5;129;01min\u001B[39;00m \u001B[38;5;28mself\u001B[39m\u001B[38;5;241m.\u001B[39m_metadata\n\u001B[0;32m   6292\u001B[0m     \u001B[38;5;129;01mand\u001B[39;00m name \u001B[38;5;129;01mnot\u001B[39;00m \u001B[38;5;129;01min\u001B[39;00m \u001B[38;5;28mself\u001B[39m\u001B[38;5;241m.\u001B[39m_accessors\n\u001B[0;32m   6293\u001B[0m     \u001B[38;5;129;01mand\u001B[39;00m \u001B[38;5;28mself\u001B[39m\u001B[38;5;241m.\u001B[39m_info_axis\u001B[38;5;241m.\u001B[39m_can_hold_identifiers_and_holds_name(name)\n\u001B[0;32m   6294\u001B[0m ):\n\u001B[0;32m   6295\u001B[0m     \u001B[38;5;28;01mreturn\u001B[39;00m \u001B[38;5;28mself\u001B[39m[name]\n\u001B[1;32m-> 6296\u001B[0m \u001B[38;5;28;01mreturn\u001B[39;00m \u001B[38;5;28;43mobject\u001B[39;49m\u001B[38;5;241;43m.\u001B[39;49m\u001B[38;5;21;43m__getattribute__\u001B[39;49m\u001B[43m(\u001B[49m\u001B[38;5;28;43mself\u001B[39;49m\u001B[43m,\u001B[49m\u001B[43m \u001B[49m\u001B[43mname\u001B[49m\u001B[43m)\u001B[49m\n",
      "File \u001B[1;32m~\\AppData\\Roaming\\Python\\Python311\\site-packages\\pandas\\core\\accessor.py:224\u001B[0m, in \u001B[0;36mCachedAccessor.__get__\u001B[1;34m(self, obj, cls)\u001B[0m\n\u001B[0;32m    221\u001B[0m \u001B[38;5;28;01mif\u001B[39;00m obj \u001B[38;5;129;01mis\u001B[39;00m \u001B[38;5;28;01mNone\u001B[39;00m:\n\u001B[0;32m    222\u001B[0m     \u001B[38;5;66;03m# we're accessing the attribute of the class, i.e., Dataset.geo\u001B[39;00m\n\u001B[0;32m    223\u001B[0m     \u001B[38;5;28;01mreturn\u001B[39;00m \u001B[38;5;28mself\u001B[39m\u001B[38;5;241m.\u001B[39m_accessor\n\u001B[1;32m--> 224\u001B[0m accessor_obj \u001B[38;5;241m=\u001B[39m \u001B[38;5;28;43mself\u001B[39;49m\u001B[38;5;241;43m.\u001B[39;49m\u001B[43m_accessor\u001B[49m\u001B[43m(\u001B[49m\u001B[43mobj\u001B[49m\u001B[43m)\u001B[49m\n\u001B[0;32m    225\u001B[0m \u001B[38;5;66;03m# Replace the property with the accessor object. Inspired by:\u001B[39;00m\n\u001B[0;32m    226\u001B[0m \u001B[38;5;66;03m# https://www.pydanny.com/cached-property.html\u001B[39;00m\n\u001B[0;32m    227\u001B[0m \u001B[38;5;66;03m# We need to use object.__setattr__ because we overwrite __setattr__ on\u001B[39;00m\n\u001B[0;32m    228\u001B[0m \u001B[38;5;66;03m# NDFrame\u001B[39;00m\n\u001B[0;32m    229\u001B[0m \u001B[38;5;28mobject\u001B[39m\u001B[38;5;241m.\u001B[39m\u001B[38;5;21m__setattr__\u001B[39m(obj, \u001B[38;5;28mself\u001B[39m\u001B[38;5;241m.\u001B[39m_name, accessor_obj)\n",
      "File \u001B[1;32m~\\AppData\\Roaming\\Python\\Python311\\site-packages\\pandas\\core\\strings\\accessor.py:191\u001B[0m, in \u001B[0;36mStringMethods.__init__\u001B[1;34m(self, data)\u001B[0m\n\u001B[0;32m    188\u001B[0m \u001B[38;5;28;01mdef\u001B[39;00m \u001B[38;5;21m__init__\u001B[39m(\u001B[38;5;28mself\u001B[39m, data) \u001B[38;5;241m-\u001B[39m\u001B[38;5;241m>\u001B[39m \u001B[38;5;28;01mNone\u001B[39;00m:\n\u001B[0;32m    189\u001B[0m     \u001B[38;5;28;01mfrom\u001B[39;00m \u001B[38;5;21;01mpandas\u001B[39;00m\u001B[38;5;21;01m.\u001B[39;00m\u001B[38;5;21;01mcore\u001B[39;00m\u001B[38;5;21;01m.\u001B[39;00m\u001B[38;5;21;01marrays\u001B[39;00m\u001B[38;5;21;01m.\u001B[39;00m\u001B[38;5;21;01mstring_\u001B[39;00m \u001B[38;5;28;01mimport\u001B[39;00m StringDtype\n\u001B[1;32m--> 191\u001B[0m     \u001B[38;5;28mself\u001B[39m\u001B[38;5;241m.\u001B[39m_inferred_dtype \u001B[38;5;241m=\u001B[39m \u001B[38;5;28;43mself\u001B[39;49m\u001B[38;5;241;43m.\u001B[39;49m\u001B[43m_validate\u001B[49m\u001B[43m(\u001B[49m\u001B[43mdata\u001B[49m\u001B[43m)\u001B[49m\n\u001B[0;32m    192\u001B[0m     \u001B[38;5;28mself\u001B[39m\u001B[38;5;241m.\u001B[39m_is_categorical \u001B[38;5;241m=\u001B[39m \u001B[38;5;28misinstance\u001B[39m(data\u001B[38;5;241m.\u001B[39mdtype, CategoricalDtype)\n\u001B[0;32m    193\u001B[0m     \u001B[38;5;28mself\u001B[39m\u001B[38;5;241m.\u001B[39m_is_string \u001B[38;5;241m=\u001B[39m \u001B[38;5;28misinstance\u001B[39m(data\u001B[38;5;241m.\u001B[39mdtype, StringDtype)\n",
      "File \u001B[1;32m~\\AppData\\Roaming\\Python\\Python311\\site-packages\\pandas\\core\\strings\\accessor.py:245\u001B[0m, in \u001B[0;36mStringMethods._validate\u001B[1;34m(data)\u001B[0m\n\u001B[0;32m    242\u001B[0m inferred_dtype \u001B[38;5;241m=\u001B[39m lib\u001B[38;5;241m.\u001B[39minfer_dtype(values, skipna\u001B[38;5;241m=\u001B[39m\u001B[38;5;28;01mTrue\u001B[39;00m)\n\u001B[0;32m    244\u001B[0m \u001B[38;5;28;01mif\u001B[39;00m inferred_dtype \u001B[38;5;129;01mnot\u001B[39;00m \u001B[38;5;129;01min\u001B[39;00m allowed_types:\n\u001B[1;32m--> 245\u001B[0m     \u001B[38;5;28;01mraise\u001B[39;00m \u001B[38;5;167;01mAttributeError\u001B[39;00m(\u001B[38;5;124m\"\u001B[39m\u001B[38;5;124mCan only use .str accessor with string values!\u001B[39m\u001B[38;5;124m\"\u001B[39m)\n\u001B[0;32m    246\u001B[0m \u001B[38;5;28;01mreturn\u001B[39;00m inferred_dtype\n",
      "\u001B[1;31mAttributeError\u001B[0m: Can only use .str accessor with string values!"
     ]
    }
   ],
   "source": [
    "df[\"相对湿度(%)\"].str.len()"
   ]
  },
  {
   "cell_type": "markdown",
   "metadata": {},
   "source": [
    "## 2. 使用str的startswith、contains等得到bool的Series可以做条件查询"
   ]
  },
  {
   "cell_type": "code",
   "execution_count": 19,
   "metadata": {
    "ExecuteTime": {
     "end_time": "2024-04-09T10:44:16.303810700Z",
     "start_time": "2024-04-09T10:44:16.299393300Z"
    }
   },
   "outputs": [],
   "source": [
    "condition = df[\"日期\"].str.startswith(\"2015-02\")"
   ]
  },
  {
   "cell_type": "code",
   "execution_count": 20,
   "metadata": {
    "ExecuteTime": {
     "end_time": "2024-04-09T10:44:23.096027Z",
     "start_time": "2024-04-09T10:44:23.077913900Z"
    }
   },
   "outputs": [
    {
     "data": {
      "text/plain": "0    False\n1    False\n2    False\n3    False\n4    False\nName: 日期, dtype: bool"
     },
     "execution_count": 20,
     "metadata": {},
     "output_type": "execute_result"
    }
   ],
   "source": [
    "condition.head()"
   ]
  },
  {
   "cell_type": "code",
   "execution_count": 21,
   "metadata": {
    "ExecuteTime": {
     "end_time": "2024-04-09T10:44:25.762307100Z",
     "start_time": "2024-04-09T10:44:25.751428300Z"
    }
   },
   "outputs": [
    {
     "data": {
      "text/plain": "            日期   城市  行政区  观测站  气温(度)  相对湿度(%)  累积雨量(mm)\n31  2015-02-01  臺南市  新化區  虎頭埤  26.1℃       67       0.0\n32  2015-02-02  臺中市  石岡區   石岡  19.4℃       99       0.0\n33  2015-02-03  屏東縣  枋山鄉   枋山  25.1℃       67       0.0\n34  2015-02-04  屏東縣  滿州鄉   滿州  22.6℃       79       0.0\n35  2015-02-05  屏東縣  恆春鎮   墾雷  23.6℃       82       0.0",
      "text/html": "<div>\n<style scoped>\n    .dataframe tbody tr th:only-of-type {\n        vertical-align: middle;\n    }\n\n    .dataframe tbody tr th {\n        vertical-align: top;\n    }\n\n    .dataframe thead th {\n        text-align: right;\n    }\n</style>\n<table border=\"1\" class=\"dataframe\">\n  <thead>\n    <tr style=\"text-align: right;\">\n      <th></th>\n      <th>日期</th>\n      <th>城市</th>\n      <th>行政区</th>\n      <th>观测站</th>\n      <th>气温(度)</th>\n      <th>相对湿度(%)</th>\n      <th>累积雨量(mm)</th>\n    </tr>\n  </thead>\n  <tbody>\n    <tr>\n      <th>31</th>\n      <td>2015-02-01</td>\n      <td>臺南市</td>\n      <td>新化區</td>\n      <td>虎頭埤</td>\n      <td>26.1℃</td>\n      <td>67</td>\n      <td>0.0</td>\n    </tr>\n    <tr>\n      <th>32</th>\n      <td>2015-02-02</td>\n      <td>臺中市</td>\n      <td>石岡區</td>\n      <td>石岡</td>\n      <td>19.4℃</td>\n      <td>99</td>\n      <td>0.0</td>\n    </tr>\n    <tr>\n      <th>33</th>\n      <td>2015-02-03</td>\n      <td>屏東縣</td>\n      <td>枋山鄉</td>\n      <td>枋山</td>\n      <td>25.1℃</td>\n      <td>67</td>\n      <td>0.0</td>\n    </tr>\n    <tr>\n      <th>34</th>\n      <td>2015-02-04</td>\n      <td>屏東縣</td>\n      <td>滿州鄉</td>\n      <td>滿州</td>\n      <td>22.6℃</td>\n      <td>79</td>\n      <td>0.0</td>\n    </tr>\n    <tr>\n      <th>35</th>\n      <td>2015-02-05</td>\n      <td>屏東縣</td>\n      <td>恆春鎮</td>\n      <td>墾雷</td>\n      <td>23.6℃</td>\n      <td>82</td>\n      <td>0.0</td>\n    </tr>\n  </tbody>\n</table>\n</div>"
     },
     "execution_count": 21,
     "metadata": {},
     "output_type": "execute_result"
    }
   ],
   "source": [
    "df[condition].head()"
   ]
  },
  {
   "cell_type": "markdown",
   "metadata": {},
   "source": [
    "## 3. 需要多次str处理的链式操作"
   ]
  },
  {
   "cell_type": "markdown",
   "metadata": {},
   "source": [
    "怎么提取201811这样的数字月份？<br>\n",
    "1.现将日期2018-11-20替换成20181120的形式<br>\n",
    "2.提取月份字符串201811"
   ]
  },
  {
   "cell_type": "code",
   "execution_count": 22,
   "metadata": {
    "ExecuteTime": {
     "end_time": "2024-04-09T10:44:40.622961400Z",
     "start_time": "2024-04-09T10:44:40.596932300Z"
    }
   },
   "outputs": [
    {
     "data": {
      "text/plain": "0    20150101\n1    20150102\n2    20150103\n3    20150104\n4    20150105\nName: 日期, dtype: object"
     },
     "execution_count": 22,
     "metadata": {},
     "output_type": "execute_result"
    }
   ],
   "source": [
    "df[\"日期\"].str.replace(\"-\", \"\").head()"
   ]
  },
  {
   "cell_type": "code",
   "execution_count": 23,
   "metadata": {
    "ExecuteTime": {
     "end_time": "2024-04-09T10:44:59.298258300Z",
     "start_time": "2024-04-09T10:44:59.275196800Z"
    }
   },
   "outputs": [
    {
     "ename": "AttributeError",
     "evalue": "'Series' object has no attribute 'slice'",
     "output_type": "error",
     "traceback": [
      "\u001B[1;31m---------------------------------------------------------------------------\u001B[0m",
      "\u001B[1;31mAttributeError\u001B[0m                            Traceback (most recent call last)",
      "Cell \u001B[1;32mIn[23], line 2\u001B[0m\n\u001B[0;32m      1\u001B[0m \u001B[38;5;66;03m# 每次调用函数，都返回一个新的Series\u001B[39;00m\n\u001B[1;32m----> 2\u001B[0m \u001B[43mdf\u001B[49m\u001B[43m[\u001B[49m\u001B[38;5;124;43m\"\u001B[39;49m\u001B[38;5;124;43m日期\u001B[39;49m\u001B[38;5;124;43m\"\u001B[39;49m\u001B[43m]\u001B[49m\u001B[38;5;241;43m.\u001B[39;49m\u001B[43mstr\u001B[49m\u001B[38;5;241;43m.\u001B[39;49m\u001B[43mreplace\u001B[49m\u001B[43m(\u001B[49m\u001B[38;5;124;43m\"\u001B[39;49m\u001B[38;5;124;43m-\u001B[39;49m\u001B[38;5;124;43m\"\u001B[39;49m\u001B[43m,\u001B[49m\u001B[43m \u001B[49m\u001B[38;5;124;43m\"\u001B[39;49m\u001B[38;5;124;43m\"\u001B[39;49m\u001B[43m)\u001B[49m\u001B[38;5;241;43m.\u001B[39;49m\u001B[43mslice\u001B[49m(\u001B[38;5;241m0\u001B[39m, \u001B[38;5;241m6\u001B[39m)\u001B[38;5;241m.\u001B[39mhead()\n",
      "File \u001B[1;32m~\\AppData\\Roaming\\Python\\Python311\\site-packages\\pandas\\core\\generic.py:6296\u001B[0m, in \u001B[0;36mNDFrame.__getattr__\u001B[1;34m(self, name)\u001B[0m\n\u001B[0;32m   6289\u001B[0m \u001B[38;5;28;01mif\u001B[39;00m (\n\u001B[0;32m   6290\u001B[0m     name \u001B[38;5;129;01mnot\u001B[39;00m \u001B[38;5;129;01min\u001B[39;00m \u001B[38;5;28mself\u001B[39m\u001B[38;5;241m.\u001B[39m_internal_names_set\n\u001B[0;32m   6291\u001B[0m     \u001B[38;5;129;01mand\u001B[39;00m name \u001B[38;5;129;01mnot\u001B[39;00m \u001B[38;5;129;01min\u001B[39;00m \u001B[38;5;28mself\u001B[39m\u001B[38;5;241m.\u001B[39m_metadata\n\u001B[0;32m   6292\u001B[0m     \u001B[38;5;129;01mand\u001B[39;00m name \u001B[38;5;129;01mnot\u001B[39;00m \u001B[38;5;129;01min\u001B[39;00m \u001B[38;5;28mself\u001B[39m\u001B[38;5;241m.\u001B[39m_accessors\n\u001B[0;32m   6293\u001B[0m     \u001B[38;5;129;01mand\u001B[39;00m \u001B[38;5;28mself\u001B[39m\u001B[38;5;241m.\u001B[39m_info_axis\u001B[38;5;241m.\u001B[39m_can_hold_identifiers_and_holds_name(name)\n\u001B[0;32m   6294\u001B[0m ):\n\u001B[0;32m   6295\u001B[0m     \u001B[38;5;28;01mreturn\u001B[39;00m \u001B[38;5;28mself\u001B[39m[name]\n\u001B[1;32m-> 6296\u001B[0m \u001B[38;5;28;01mreturn\u001B[39;00m \u001B[38;5;28;43mobject\u001B[39;49m\u001B[38;5;241;43m.\u001B[39;49m\u001B[38;5;21;43m__getattribute__\u001B[39;49m\u001B[43m(\u001B[49m\u001B[38;5;28;43mself\u001B[39;49m\u001B[43m,\u001B[49m\u001B[43m \u001B[49m\u001B[43mname\u001B[49m\u001B[43m)\u001B[49m\n",
      "\u001B[1;31mAttributeError\u001B[0m: 'Series' object has no attribute 'slice'"
     ]
    }
   ],
   "source": [
    "# 每次调用函数，都返回一个新的Series\n",
    "df[\"日期\"].str.replace(\"-\", \"\").slice(0, 6).head()"
   ]
  },
  {
   "cell_type": "code",
   "execution_count": 24,
   "metadata": {
    "ExecuteTime": {
     "end_time": "2024-04-09T10:45:29.968154Z",
     "start_time": "2024-04-09T10:45:29.955439500Z"
    }
   },
   "outputs": [
    {
     "data": {
      "text/plain": "0    201501\n1    201501\n2    201501\n3    201501\n4    201501\nName: 日期, dtype: object"
     },
     "execution_count": 24,
     "metadata": {},
     "output_type": "execute_result"
    }
   ],
   "source": [
    "df[\"日期\"].str.replace(\"-\", \"\").str.slice(0, 6).head()"
   ]
  },
  {
   "cell_type": "code",
   "execution_count": 25,
   "metadata": {
    "ExecuteTime": {
     "end_time": "2024-04-09T10:46:07.997115500Z",
     "start_time": "2024-04-09T10:46:07.983690300Z"
    }
   },
   "outputs": [
    {
     "data": {
      "text/plain": "0    201501\n1    201501\n2    201501\n3    201501\n4    201501\nName: 日期, dtype: object"
     },
     "execution_count": 25,
     "metadata": {},
     "output_type": "execute_result"
    }
   ],
   "source": [
    "# slice就是切片语法，可以直接用\n",
    "df[\"日期\"].str.replace(\"-\", \"\").str[0:6].head()"
   ]
  },
  {
   "cell_type": "markdown",
   "metadata": {},
   "source": [
    "## 4. 使用正则表达式的处理"
   ]
  },
  {
   "cell_type": "code",
   "execution_count": 38,
   "metadata": {
    "ExecuteTime": {
     "end_time": "2024-04-09T10:50:17.043804400Z",
     "start_time": "2024-04-09T10:50:17.023272400Z"
    }
   },
   "outputs": [],
   "source": [
    "# 添加新列\n",
    "def get_date(x):\n",
    "    year, month, day = x[\"日期\"].split(\"-\")\n",
    "    return f\"{year}年{month}月{day}日\"\n",
    "\n",
    "\n",
    "df[\"中文日期\"] = df.apply(get_date, axis=1)"
   ]
  },
  {
   "cell_type": "code",
   "execution_count": 39,
   "metadata": {
    "ExecuteTime": {
     "end_time": "2024-04-09T10:50:18.097859900Z",
     "start_time": "2024-04-09T10:50:18.049178800Z"
    }
   },
   "outputs": [
    {
     "data": {
      "text/plain": "             日期   城市  行政区  观测站  气温(度)  相对湿度(%)  累积雨量(mm)         中文日期\n0    2015-01-01  新北市  烏來區   福山  13.7℃       92       0.0  2015年01月01日\n1    2015-01-02  臺南市  安平區   安平  23.5℃       70       0.0  2015年01月02日\n2    2015-01-03  臺東縣  東河鄉  七塊厝  19.6℃       86       0.0  2015年01月03日\n3    2015-01-04  新北市  貢寮區   福隆  14.2℃       96     -99.0  2015年01月04日\n4    2015-01-05  南投縣  仁愛鄉  小奇萊   8.3℃       57       0.0  2015年01月05日\n..          ...  ...  ...  ...    ...      ...       ...          ...\n479  2016-04-24  新北市  板橋區   板橋  15.6℃       73       5.0  2016年04月24日\n480  2016-04-25  宜蘭縣  大同鄉  翠峰湖   7.8℃      100       0.0  2016年04月25日\n481  2016-04-26  花蓮縣  壽豐鄉   大坑  15.7℃       94       0.0  2016年04月26日\n482  2016-04-27  新竹縣  五峰鄉   雪霸  15.7℃       62       0.0  2016年04月27日\n483  2016-04-28  桃園市  大溪區   大溪  14.8℃       77       8.0  2016年04月28日\n\n[484 rows x 8 columns]",
      "text/html": "<div>\n<style scoped>\n    .dataframe tbody tr th:only-of-type {\n        vertical-align: middle;\n    }\n\n    .dataframe tbody tr th {\n        vertical-align: top;\n    }\n\n    .dataframe thead th {\n        text-align: right;\n    }\n</style>\n<table border=\"1\" class=\"dataframe\">\n  <thead>\n    <tr style=\"text-align: right;\">\n      <th></th>\n      <th>日期</th>\n      <th>城市</th>\n      <th>行政区</th>\n      <th>观测站</th>\n      <th>气温(度)</th>\n      <th>相对湿度(%)</th>\n      <th>累积雨量(mm)</th>\n      <th>中文日期</th>\n    </tr>\n  </thead>\n  <tbody>\n    <tr>\n      <th>0</th>\n      <td>2015-01-01</td>\n      <td>新北市</td>\n      <td>烏來區</td>\n      <td>福山</td>\n      <td>13.7℃</td>\n      <td>92</td>\n      <td>0.0</td>\n      <td>2015年01月01日</td>\n    </tr>\n    <tr>\n      <th>1</th>\n      <td>2015-01-02</td>\n      <td>臺南市</td>\n      <td>安平區</td>\n      <td>安平</td>\n      <td>23.5℃</td>\n      <td>70</td>\n      <td>0.0</td>\n      <td>2015年01月02日</td>\n    </tr>\n    <tr>\n      <th>2</th>\n      <td>2015-01-03</td>\n      <td>臺東縣</td>\n      <td>東河鄉</td>\n      <td>七塊厝</td>\n      <td>19.6℃</td>\n      <td>86</td>\n      <td>0.0</td>\n      <td>2015年01月03日</td>\n    </tr>\n    <tr>\n      <th>3</th>\n      <td>2015-01-04</td>\n      <td>新北市</td>\n      <td>貢寮區</td>\n      <td>福隆</td>\n      <td>14.2℃</td>\n      <td>96</td>\n      <td>-99.0</td>\n      <td>2015年01月04日</td>\n    </tr>\n    <tr>\n      <th>4</th>\n      <td>2015-01-05</td>\n      <td>南投縣</td>\n      <td>仁愛鄉</td>\n      <td>小奇萊</td>\n      <td>8.3℃</td>\n      <td>57</td>\n      <td>0.0</td>\n      <td>2015年01月05日</td>\n    </tr>\n    <tr>\n      <th>...</th>\n      <td>...</td>\n      <td>...</td>\n      <td>...</td>\n      <td>...</td>\n      <td>...</td>\n      <td>...</td>\n      <td>...</td>\n      <td>...</td>\n    </tr>\n    <tr>\n      <th>479</th>\n      <td>2016-04-24</td>\n      <td>新北市</td>\n      <td>板橋區</td>\n      <td>板橋</td>\n      <td>15.6℃</td>\n      <td>73</td>\n      <td>5.0</td>\n      <td>2016年04月24日</td>\n    </tr>\n    <tr>\n      <th>480</th>\n      <td>2016-04-25</td>\n      <td>宜蘭縣</td>\n      <td>大同鄉</td>\n      <td>翠峰湖</td>\n      <td>7.8℃</td>\n      <td>100</td>\n      <td>0.0</td>\n      <td>2016年04月25日</td>\n    </tr>\n    <tr>\n      <th>481</th>\n      <td>2016-04-26</td>\n      <td>花蓮縣</td>\n      <td>壽豐鄉</td>\n      <td>大坑</td>\n      <td>15.7℃</td>\n      <td>94</td>\n      <td>0.0</td>\n      <td>2016年04月26日</td>\n    </tr>\n    <tr>\n      <th>482</th>\n      <td>2016-04-27</td>\n      <td>新竹縣</td>\n      <td>五峰鄉</td>\n      <td>雪霸</td>\n      <td>15.7℃</td>\n      <td>62</td>\n      <td>0.0</td>\n      <td>2016年04月27日</td>\n    </tr>\n    <tr>\n      <th>483</th>\n      <td>2016-04-28</td>\n      <td>桃園市</td>\n      <td>大溪區</td>\n      <td>大溪</td>\n      <td>14.8℃</td>\n      <td>77</td>\n      <td>8.0</td>\n      <td>2016年04月28日</td>\n    </tr>\n  </tbody>\n</table>\n<p>484 rows × 8 columns</p>\n</div>"
     },
     "execution_count": 39,
     "metadata": {},
     "output_type": "execute_result"
    }
   ],
   "source": [
    "df[\"中文日期\"].head()\n",
    "df"
   ]
  },
  {
   "cell_type": "markdown",
   "metadata": {},
   "source": [
    "问题：怎么将\"2015年11月20日\"中的年、月、日三个中文字符去除？"
   ]
  },
  {
   "cell_type": "code",
   "execution_count": 33,
   "metadata": {
    "ExecuteTime": {
     "end_time": "2024-04-09T10:49:12.359695600Z",
     "start_time": "2024-04-09T10:49:12.327101700Z"
    }
   },
   "outputs": [
    {
     "data": {
      "text/plain": "0    20150101\n1    20150102\n2    20150103\n3    20150104\n4    20150105\nName: 中文日期, dtype: object"
     },
     "execution_count": 33,
     "metadata": {},
     "output_type": "execute_result"
    }
   ],
   "source": [
    "# 方法1：链式replace\n",
    "df[\"中文日期\"].str.replace(\"年\", \"\").str.replace(\"月\", \"\").str.replace(\"日\", \"\").head()"
   ]
  },
  {
   "cell_type": "markdown",
   "metadata": {},
   "source": [
    "***Series.str默认就开启了正则表达式模式***"
   ]
  },
  {
   "cell_type": "code",
   "execution_count": 53,
   "metadata": {
    "ExecuteTime": {
     "end_time": "2024-04-09T11:17:11.122409300Z",
     "start_time": "2024-04-09T11:17:11.112582300Z"
    }
   },
   "outputs": [
    {
     "data": {
      "text/plain": "0    20150101\n1    20150102\n2    20150103\n3    20150104\n4    20150105\nName: 中文日期, dtype: object"
     },
     "execution_count": 53,
     "metadata": {},
     "output_type": "execute_result"
    }
   ],
   "source": [
    "# 方法二：正则表达式替换\n",
    "df[\"中文日期\"].str.replace(\"[年|月|日]\", \"\", regex=True).head()"
   ]
  }
 ],
 "metadata": {
  "kernelspec": {
   "display_name": "Python 3",
   "language": "python",
   "name": "python3"
  },
  "language_info": {
   "codemirror_mode": {
    "name": "ipython",
    "version": 3
   },
   "file_extension": ".py",
   "mimetype": "text/x-python",
   "name": "python",
   "nbconvert_exporter": "python",
   "pygments_lexer": "ipython3",
   "version": "3.6.5"
  }
 },
 "nbformat": 4,
 "nbformat_minor": 2
}
