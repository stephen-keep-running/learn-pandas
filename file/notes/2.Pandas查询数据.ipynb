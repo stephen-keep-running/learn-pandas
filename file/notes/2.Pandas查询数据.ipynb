{
 "cells": [
  {
   "cell_type": "markdown",
   "metadata": {},
   "source": [
    "# Pandas 查询数据"
   ],
   "id": "8734025ec685237f"
  },
  {
   "cell_type": "markdown",
   "metadata": {},
   "source": [
    "## Pandas查询数据的几种方法\n",
    "1.df.loc方法，根据行、列的标签值查询<br>\n",
    "2.df.iloc方法，根据行列的数字位置查询<br>\n",
    "3.df.where方法<br>\n",
    "4.df.query方法"
   ],
   "id": "32db1de7d90477a3"
  },
  {
   "cell_type": "markdown",
   "metadata": {},
   "source": [
    "loc既能查询，又能覆盖写入，强烈推荐！"
   ],
   "id": "956b3318255579a5"
  },
  {
   "cell_type": "markdown",
   "metadata": {},
   "source": [
    "## Pandas使用df.loc查询数据的方法"
   ],
   "id": "25cddbc0e66ffd08"
  },
  {
   "cell_type": "markdown",
   "metadata": {},
   "source": [
    "1.使用单个`label`值查询数据<br>\n",
    "2.使用值列表批量查询<br>\n",
    "3.使用数值区间进行范围查询<br>\n",
    "4.使用条件表达式查询<br>\n",
    "5.调用函数查询"
   ],
   "id": "d5a16bced0edc713"
  },
  {
   "cell_type": "markdown",
   "metadata": {},
   "source": [
    "# 注意\n",
    "* 以上查询方法，既适用于行，也适用于列\n",
    "* 注意观察降维`dataFrame`->`Series`->值"
   ],
   "id": "ad0b7447d44775bb"
  },
  {
   "cell_type": "code",
   "execution_count": null,
   "metadata": {},
   "outputs": [],
   "source": [
    "import pandas as pd"
   ],
   "id": "2b7dfebf26d49ae"
  },
  {
   "cell_type": "markdown",
   "metadata": {},
   "source": [
    "## 0. 读取数据"
   ],
   "id": "78303328bfdcb1a9"
  },
  {
   "cell_type": "code",
   "execution_count": null,
   "metadata": {},
   "outputs": [],
   "source": [
    "df = pd.read_csv(\"../datas/weather_20230115134249.csv\", encoding='utf-8')"
   ],
   "id": "140b276fb9a05820"
  },
  {
   "cell_type": "code",
   "execution_count": null,
   "metadata": {},
   "outputs": [],
   "source": [
    "df.head()"
   ],
   "id": "bdbdc4340fcff555"
  },
  {
   "cell_type": "code",
   "execution_count": null,
   "metadata": {},
   "outputs": [],
   "source": [
    "# 设定索引为日期，方便日期筛选\n",
    "df.set_index('日期', inplace=True)"
   ],
   "id": "fca449e87363a80a"
  },
  {
   "cell_type": "code",
   "execution_count": null,
   "metadata": {},
   "outputs": [],
   "source": [
    "df.index"
   ],
   "id": "9f356d1f73893e5f"
  },
  {
   "cell_type": "code",
   "outputs": [],
   "source": [
    "# df[\"气温(度)\"]\n",
    "df.loc[:, \"气温(度)\"]"
   ],
   "metadata": {
    "collapsed": false
   },
   "id": "3f97419cdb702124",
   "execution_count": null
  },
  {
   "cell_type": "code",
   "execution_count": null,
   "metadata": {},
   "outputs": [],
   "source": [
    "df.loc[:, \"气温(度)\"] = df[\"气温(度)\"].str.replace(\"℃\", \"\").astype(\"float\")"
   ],
   "id": "73074977077aedb"
  },
  {
   "cell_type": "code",
   "execution_count": null,
   "metadata": {},
   "outputs": [],
   "source": [
    "df.dtypes"
   ],
   "id": "cd6e0678ab04c4e"
  },
  {
   "cell_type": "code",
   "execution_count": null,
   "metadata": {},
   "outputs": [],
   "source": [
    "df.head()"
   ],
   "id": "ff7349d16df3b707"
  },
  {
   "cell_type": "markdown",
   "metadata": {},
   "source": [
    "## 1. 使用单个label值查询数据\n",
    "行或者列，都可以只传入单个值，实现精确匹配"
   ],
   "id": "feb95ef342b8772f"
  },
  {
   "cell_type": "code",
   "execution_count": null,
   "metadata": {},
   "outputs": [],
   "source": [
    "# 得到单个值\n",
    "df.loc['2015-05-12', '气温(度)']"
   ],
   "id": "ec1bbbd9c1200bdb"
  },
  {
   "cell_type": "code",
   "execution_count": null,
   "metadata": {},
   "outputs": [],
   "source": [
    "# 得到一个Series\n",
    "df.loc['2015-05-12', ['气温(度)', '相对湿度(%)']]"
   ],
   "id": "6ea44a0f626dc4d7"
  },
  {
   "cell_type": "markdown",
   "metadata": {},
   "source": [
    "## 2. 使用值列表批量查询"
   ],
   "id": "50a883b342022491"
  },
  {
   "cell_type": "code",
   "execution_count": null,
   "metadata": {},
   "outputs": [],
   "source": [
    "# 得到Series\n",
    "df.loc[['2015-05-12', '2015-10-10'], '气温(度)']"
   ],
   "id": "ffbbc1e7f9fde87b"
  },
  {
   "cell_type": "code",
   "execution_count": null,
   "metadata": {},
   "outputs": [],
   "source": [
    "# 得到DataFrame\n",
    "df.loc[['2015-05-12', '2015-10-10'], ['气温(度)', '相对湿度(%)']]"
   ],
   "id": "6507989fde00c87d"
  },
  {
   "cell_type": "markdown",
   "metadata": {},
   "source": [
    "## 3. 使用数值区间进行范围查询\n",
    "注意：区间既包含开始，也包含结束"
   ],
   "id": "c93f2bb94c24faff"
  },
  {
   "cell_type": "code",
   "execution_count": null,
   "metadata": {},
   "outputs": [],
   "source": [
    "# 行index按区间\n",
    "df.loc['2015-05-11':'2015-05-15', '气温(度)']"
   ],
   "id": "bf6ea6cfe37bba72"
  },
  {
   "cell_type": "code",
   "execution_count": null,
   "metadata": {},
   "outputs": [],
   "source": [
    "# 列index按区间\n",
    "df.loc['2015-10-10', '气温(度)':'累积雨量(mm)']"
   ],
   "id": "d539d37c383fe926"
  },
  {
   "cell_type": "code",
   "execution_count": null,
   "metadata": {},
   "outputs": [],
   "source": [
    "# 行和列都按区间查询\n",
    "df.loc['2015-05-12':'2015-05-13', '气温(度)':'累积雨量(mm)']"
   ],
   "id": "2ef648bfa06672e"
  },
  {
   "cell_type": "markdown",
   "metadata": {},
   "source": [
    "## 4. 使用条件表达式查询\n",
    "boolean列表的长度得等于行数或者列数"
   ],
   "id": "ec4ae796460f07e5"
  },
  {
   "cell_type": "markdown",
   "metadata": {},
   "source": [
    "**简单条件查询，最低温度低于-10度的列表**"
   ],
   "id": "cef301f2a04b1dd"
  },
  {
   "cell_type": "code",
   "execution_count": null,
   "metadata": {},
   "outputs": [],
   "source": [
    "df.loc[df[\"气温(度)\"].astype(float) < -10, :]"
   ],
   "id": "e9398b6c2360ff3a"
  },
  {
   "cell_type": "code",
   "execution_count": null,
   "metadata": {},
   "outputs": [],
   "source": [
    "# 观察一些这里的boolean条件\n",
    "df[\"气温(度)\"].astype(float) < -10"
   ],
   "id": "211a8e2c6bb9882e"
  },
  {
   "cell_type": "markdown",
   "metadata": {},
   "source": [
    "**复杂查询条件，查一下我心中的目标天气**"
   ],
   "id": "9255c5bdd779b5b"
  },
  {
   "cell_type": "code",
   "execution_count": null,
   "metadata": {},
   "outputs": [],
   "source": [
    "# 查询最高温度小于30度，最低温度大于15度的天气数据\n",
    "# ':' 代表所有列\n",
    "# df.loc[(df[\"气温(度)\"].astype(float) < 30) & (df[\"气温(度)\"].astype(float) > 15), [\"城市\", \"行政区\", \"气温(度)\"]]\n",
    "df.loc[(df[\"气温(度)\"].astype(float) < 30) & (df[\"气温(度)\"].astype(float) > 15), :]"
   ],
   "id": "adf991bf0143cebc"
  },
  {
   "cell_type": "code",
   "execution_count": null,
   "metadata": {},
   "outputs": [],
   "source": [
    "# 再次观察这里的boolean条件\n",
    "(df[\"气温(度)\"].astype(float) < 30) & (df[\"气温(度)\"].astype(float) > 15)"
   ],
   "id": "d8cf735105a709b0"
  },
  {
   "cell_type": "markdown",
   "metadata": {},
   "source": [
    "## 5. 调用函数查询"
   ],
   "id": "64dbffa32fd38deb"
  },
  {
   "cell_type": "code",
   "execution_count": null,
   "metadata": {},
   "outputs": [],
   "source": [
    "# 直接写lambda表达式\n",
    "df.loc[lambda df: (df[\"气温(度)\"].astype(float) < 30) & (df[\"气温(度)\"].astype(float) > 15), :]"
   ],
   "id": "22b5e3b8a79996e1"
  },
  {
   "cell_type": "code",
   "execution_count": null,
   "metadata": {},
   "outputs": [],
   "source": [
    "df[\"累积雨量(mm)\"] == 0.0"
   ],
   "id": "c9bf9f1d10b6ca5a"
  },
  {
   "cell_type": "code",
   "execution_count": null,
   "metadata": {},
   "outputs": [],
   "source": [
    "#函数式编程的本质：\n",
    "#    函数自身可以像变量一样传递\n",
    "\n",
    "# 编写自己的函数，查询九月份累计雨量为0的数据\n",
    "def query_my_data(df):\n",
    "    return (df.index.str.startswith(\"2015-04\")) & (df[\"累积雨量(mm)\"] == 0.0)\n",
    "\n",
    "\n",
    "df.loc[query_my_data, :]"
   ],
   "id": "ae3ff676c3e4b4f7"
  },
  {
   "cell_type": "code",
   "execution_count": null,
   "metadata": {},
   "outputs": [],
   "source": [],
   "id": "b3390be358cf1acf"
  }
 ],
 "metadata": {
  "kernelspec": {
   "display_name": "Python 3",
   "language": "python",
   "name": "python3"
  },
  "language_info": {
   "codemirror_mode": {
    "name": "ipython",
    "version": 3
   },
   "file_extension": ".py",
   "mimetype": "text/x-python",
   "name": "python",
   "nbconvert_exporter": "python",
   "pygments_lexer": "ipython3",
   "version": "3.6.5"
  }
 },
 "nbformat": 4,
 "nbformat_minor": 5
}
