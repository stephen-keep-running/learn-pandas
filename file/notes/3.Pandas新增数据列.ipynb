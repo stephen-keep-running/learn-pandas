{
 "cells": [
  {
   "cell_type": "markdown",
   "metadata": {},
   "source": [
    "# Pandas怎样新增数据列？\n",
    "在进行数据分析时，经常需要按照一定条件创建新的数据列，然后进行下一步分析。"
   ],
   "id": "c06d9e0bc416ed20"
  },
  {
   "cell_type": "markdown",
   "metadata": {},
   "source": [
    "1. 直接赋值 <br>\n",
    "2. df.apply方法<br>\n",
    "3. df.assign方法<br>\n",
    "4. 按条件选择分组分别赋值"
   ],
   "id": "c249efa8e017189d"
  },
  {
   "cell_type": "code",
   "execution_count": null,
   "metadata": {},
   "outputs": [],
   "source": [
    "import pandas as pd"
   ],
   "id": "f156b5e18ba6db14"
  },
  {
   "cell_type": "markdown",
   "metadata": {},
   "source": [
    "## 0. 读取csv数据到DataFrame"
   ],
   "id": "36cf8a50a74231b1"
  },
  {
   "cell_type": "code",
   "execution_count": null,
   "metadata": {},
   "outputs": [],
   "source": [
    "fpath = \"../datas/weather_20230115134249.csv\"\n",
    "df = pd.read_csv(fpath)"
   ],
   "id": "3f0f51789c066e31"
  },
  {
   "cell_type": "code",
   "execution_count": null,
   "metadata": {},
   "outputs": [],
   "source": [
    "df.head()"
   ],
   "id": "bc9cd7ffc4cb647d"
  },
  {
   "cell_type": "markdown",
   "metadata": {},
   "source": [
    "## 1. 直接赋值的方法\n",
    "实例：清理温度列，变成数字类型"
   ],
   "id": "2cb1813ef7d7f76d"
  },
  {
   "cell_type": "code",
   "execution_count": null,
   "metadata": {},
   "outputs": [],
   "source": [
    "# 替换掉温度的后缀℃\n",
    "# 注意：这里直接对df[\"气温(度)\"]操作，是直接作用在原始数据上的\n",
    "# ':' 表示所有行\n",
    "df.loc[:, \"气温(度)\"] = df[\"气温(度)\"].str.replace(\"℃\", \"\").astype(\"float\")\n",
    "df.dtypes"
   ],
   "id": "df4336f8e6e0a0a0"
  },
  {
   "cell_type": "markdown",
   "metadata": {},
   "source": [
    "实例：计算温度差"
   ],
   "id": "9b8fa99e92eb2dab"
  },
  {
   "cell_type": "code",
   "execution_count": null,
   "metadata": {},
   "outputs": [],
   "source": [
    "# 注意，df[\"气温(度)\"]其实是一个Series，后面的减法返回的是Series\n",
    "df.loc[:, \"温差(度)\"] = df[\"气温(度)\"] - 2"
   ],
   "id": "fc6448d382ecd89d"
  },
  {
   "cell_type": "code",
   "execution_count": null,
   "metadata": {},
   "outputs": [],
   "source": [
    "df.head()"
   ],
   "id": "a790211594ba609c"
  },
  {
   "cell_type": "markdown",
   "source": [
    "##  2. df.apply方法\n",
    "Apply a function along an axis of the DataFrame.\n",
    "\n",
    "Object passed to the function are Series objects whose index is either the DataFrame's index(axis=0) or the DataFrame's columns(axis=1).\n",
    "\n",
    "实例：添加一列温度类型：\n",
    "* 如果最高温度大于30度就是高温\n",
    "* 低于-5度就是低温\n",
    "* 否则就是常温"
   ],
   "metadata": {
    "collapsed": false
   },
   "id": "a3af0feeab36cb76"
  },
  {
   "cell_type": "code",
   "execution_count": null,
   "metadata": {},
   "outputs": [],
   "source": [
    "def get_temperature_type(x):\n",
    "    if x[\"气温(度)\"] > 30:\n",
    "        return '高温'\n",
    "    elif x[\"气温(度)\"] < -5:\n",
    "        return '低温'\n",
    "    return '常温'\n",
    "\n",
    "\n",
    "# 注意需要设置axis==1,这是Series的index是columns\n",
    "df.loc[:, \"温度类型\"] = df.apply(get_temperature_type, axis=1)"
   ],
   "id": "8f1a4d10139164ed"
  },
  {
   "cell_type": "code",
   "execution_count": null,
   "metadata": {},
   "outputs": [],
   "source": [
    "# 查看 温度类型的计数\n",
    "df[\"温度类型\"].value_counts()"
   ],
   "id": "4ba6417da403fa63"
  },
  {
   "cell_type": "code",
   "outputs": [],
   "source": [
    "df.head()"
   ],
   "metadata": {
    "collapsed": false
   },
   "id": "5ec971f2295aa103",
   "execution_count": null
  },
  {
   "cell_type": "markdown",
   "metadata": {},
   "source": [
    "## 3.df.assign方法\n",
    "Assign new columns to a DataFrame.\n",
    "Return a new object with all original columns in addition to new ones.\n",
    "\n",
    "实例：将温度从摄氏度变成华氏度"
   ],
   "id": "96e2cefcb1d96890"
  },
  {
   "cell_type": "code",
   "execution_count": null,
   "metadata": {},
   "outputs": [],
   "source": [
    "# 可以同时添加多个新的列\n",
    "df.assign(\n",
    "    #摄氏度转华氏度\n",
    "    tem_fahrenheit=lambda x: x[\"气温(度)\"] * 9 / 5 + 32\n",
    ")"
   ],
   "id": "5231bfe8fff499db"
  },
  {
   "cell_type": "markdown",
   "metadata": {},
   "source": [
    "## 4. 按条件选择分组分别赋值\n",
    "按条件先选择温度，然后对这部分数据赋值新列<br>\n",
    "实例：温度减去10度小于15度，则认为温差大"
   ],
   "id": "23cedea75d210185"
  },
  {
   "cell_type": "code",
   "execution_count": null,
   "metadata": {},
   "outputs": [],
   "source": [
    "# 先创建空列（这是第一种创建新列的方法）？广播\n",
    "df['wencha_type'] = ''\n",
    "# df.head(n=10)\n",
    "df.loc[df[\"气温(度)\"] - 10 < 15, \"wencha_type\"] = \"温差大\"\n",
    "df.loc[df[\"气温(度)\"] - 10 >= 15, \"wencha_type\"] = \"温差正常\""
   ],
   "id": "37053cc15e9636e"
  },
  {
   "cell_type": "code",
   "outputs": [],
   "source": [
    "df.head()"
   ],
   "metadata": {
    "collapsed": false
   },
   "id": "f3cefe69f0268f0d",
   "execution_count": null
  },
  {
   "cell_type": "code",
   "execution_count": null,
   "metadata": {},
   "outputs": [],
   "source": [
    "df[\"wencha_type\"].value_counts()"
   ],
   "id": "24aa2404a5d97705"
  }
 ],
 "metadata": {
  "kernelspec": {
   "display_name": "Python 3",
   "language": "python",
   "name": "python3"
  },
  "language_info": {
   "codemirror_mode": {
    "name": "ipython",
    "version": 3
   },
   "file_extension": ".py",
   "mimetype": "text/x-python",
   "name": "python",
   "nbconvert_exporter": "python",
   "pygments_lexer": "ipython3",
   "version": "3.6.5"
  }
 },
 "nbformat": 4,
 "nbformat_minor": 5
}
